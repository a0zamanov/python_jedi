{
 "cells": [
  {
   "cell_type": "code",
   "execution_count": 37,
   "metadata": {},
   "outputs": [],
   "source": [
    "from pandas import Series, DataFrame\n",
    "import pandas as pd\n",
    "import numpy as np"
   ]
  },
  {
   "cell_type": "code",
   "execution_count": 114,
   "metadata": {},
   "outputs": [
    {
     "name": "stdout",
     "output_type": "stream",
     "text": [
      "[1 2 3 4]\n",
      "Index(['x', 'b', 'z', 'k'], dtype='object')\n",
      "x    1\n",
      "b    2\n",
      "z    3\n",
      "k    4\n",
      "dtype: int64\n"
     ]
    }
   ],
   "source": [
    "a = Series([1, 2, 3, 4], index=['x', 'b', 'z', 'k'])\n",
    "print(a.values)\n",
    "print(a.index)\n",
    "print(a)"
   ]
  },
  {
   "cell_type": "code",
   "execution_count": 45,
   "metadata": {},
   "outputs": [
    {
     "name": "stdout",
     "output_type": "stream",
     "text": [
      "x     2.718282\n",
      "y     7.389056\n",
      "z    20.085537\n",
      "k    54.598150\n",
      "dtype: float64\n"
     ]
    }
   ],
   "source": [
    "print(np.exp(a))"
   ]
  },
  {
   "cell_type": "code",
   "execution_count": 51,
   "metadata": {},
   "outputs": [
    {
     "name": "stdout",
     "output_type": "stream",
     "text": [
      "California    False\n",
      "Ohio           True\n",
      "Oregon         True\n",
      "Texas          True\n",
      "dtype: bool\n"
     ]
    }
   ],
   "source": [
    "sdata = {'Ohio': 35000, 'Texas': 71000, 'Oregon': 16000, 'Utah': 5000}\n",
    "indx = ['California', 'Ohio', 'Oregon', 'Texas'] \n",
    "x = Series(sdata, index=indx)\n",
    "print(pd.notnull(x))"
   ]
  },
  {
   "cell_type": "code",
   "execution_count": 57,
   "metadata": {},
   "outputs": [
    {
     "name": "stdout",
     "output_type": "stream",
     "text": [
      "California         NaN\n",
      "Ohio           70000.0\n",
      "Oregon         32000.0\n",
      "Texas         142000.0\n",
      "Utah               NaN\n",
      "dtype: float64\n"
     ]
    }
   ],
   "source": [
    "sdata = {'Ohio': 35000, 'Texas': 71000, 'Oregon': 16000, 'Utah': 5000}\n",
    "y = Series(sdata)\n",
    "z = x + y\n",
    "print(z)"
   ]
  },
  {
   "cell_type": "code",
   "execution_count": 68,
   "metadata": {},
   "outputs": [
    {
     "name": "stdout",
     "output_type": "stream",
     "text": [
      "state\n",
      "CA         NaN\n",
      "OH     70000.0\n",
      "OR     32000.0\n",
      "TX    142000.0\n",
      "UT         NaN\n",
      "Name: population, dtype: float64\n"
     ]
    }
   ],
   "source": [
    "z.name = 'population'\n",
    "z.index = ['CA', 'OH', 'OR', 'TX', 'UT']\n",
    "z.index.name = 'state'\n",
    "print(z)"
   ]
  },
  {
   "cell_type": "code",
   "execution_count": 119,
   "metadata": {},
   "outputs": [
    {
     "name": "stdout",
     "output_type": "stream",
     "text": [
      "   pop  year   state  population\n",
      "a  1.5  2000    Ohio         100\n",
      "b  1.7  2001    Ohio         200\n",
      "c  3.6  2002    Ohio         300\n",
      "d  2.4  2001  Nevada         400\n",
      "e  2.9  2002  Nevada         500\n"
     ]
    }
   ],
   "source": [
    "data = {'pop': [1.5, 1.7, 3.6, 2.4, 2.9],\n",
    "        'state': ['Ohio', 'Ohio', 'Ohio', 'Nevada', 'Nevada'],\n",
    "        'year': [2000, 2001, 2002, 2001, 2002],\n",
    "}\n",
    "frame = DataFrame(data, index=['a', 'b', 'c', 'd', 'e'], columns=['pop', 'year', 'state'])\n",
    "frame['population'] = [100, 200, 300, 400, 500]\n",
    "print(frame)"
   ]
  },
  {
   "cell_type": "code",
   "execution_count": 120,
   "metadata": {},
   "outputs": [
    {
     "name": "stdout",
     "output_type": "stream",
     "text": [
      "pop            3.6\n",
      "year          2002\n",
      "state         Ohio\n",
      "population     300\n",
      "Name: c, dtype: object\n"
     ]
    }
   ],
   "source": [
    "print(frame.loc['c'])"
   ]
  },
  {
   "cell_type": "code",
   "execution_count": 121,
   "metadata": {},
   "outputs": [
    {
     "name": "stdout",
     "output_type": "stream",
     "text": [
      "   pop  year   state  population  series\n",
      "a  1.5  2000    Ohio         100     NaN\n",
      "b  1.7  2001    Ohio         200     2.0\n",
      "c  3.6  2002    Ohio         300     NaN\n",
      "d  2.4  2001  Nevada         400     NaN\n",
      "e  2.9  2002  Nevada         500     NaN\n"
     ]
    }
   ],
   "source": [
    "frame['series'] = a\n",
    "print(frame)"
   ]
  },
  {
   "cell_type": "code",
   "execution_count": 124,
   "metadata": {},
   "outputs": [
    {
     "name": "stdout",
     "output_type": "stream",
     "text": [
      "               a     b     c       d       e\n",
      "pop          1.5   1.7   3.6     2.4     2.9\n",
      "year        2000  2001  2002    2001    2002\n",
      "state       Ohio  Ohio  Ohio  Nevada  Nevada\n",
      "population   100   200   300     400     500\n",
      "series       NaN     2   NaN     NaN     NaN\n"
     ]
    }
   ],
   "source": [
    "print(frame.T)"
   ]
  }
 ],
 "metadata": {
  "kernelspec": {
   "display_name": "Python 3",
   "language": "python",
   "name": "python3"
  },
  "language_info": {
   "codemirror_mode": {
    "name": "ipython",
    "version": 3
   },
   "file_extension": ".py",
   "mimetype": "text/x-python",
   "name": "python",
   "nbconvert_exporter": "python",
   "pygments_lexer": "ipython3",
   "version": "3.7.3"
  }
 },
 "nbformat": 4,
 "nbformat_minor": 2
}
